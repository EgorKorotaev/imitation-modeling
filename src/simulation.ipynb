{
 "cells": [
  {
   "cell_type": "code",
   "execution_count": 5,
   "metadata": {
    "collapsed": true
   },
   "outputs": [],
   "source": [
    "from buffer import Buffer\n",
    "from node import Node"
   ]
  },
  {
   "cell_type": "code",
   "execution_count": 6,
   "outputs": [],
   "source": [
    "from src.channel import Channel\n",
    "from src.range import Range\n",
    "TOTAL_PACKAGES = 500"
   ],
   "metadata": {
    "collapsed": false,
    "pycharm": {
     "name": "#%%\n"
    }
   }
  },
  {
   "cell_type": "code",
   "execution_count": 7,
   "outputs": [],
   "source": [
    "buffer_c = Buffer(capacity=TOTAL_PACKAGES)\n",
    "node_c = Node(channels=[], buffer=buffer_c)"
   ],
   "metadata": {
    "collapsed": false,
    "pycharm": {
     "name": "#%%\n"
    }
   }
  },
  {
   "cell_type": "code",
   "execution_count": 8,
   "outputs": [],
   "source": [
    "channel_b1c = Channel(range=Range(22, 28), receiver=node_c)\n",
    "channel_b2c = Channel(range=Range(25, 25), receiver=node_c)\n",
    "\n",
    "buffer_b = Buffer(capacity=25, threshold=20)\n",
    "\n",
    "node_b1 = Node(channels=[channel_b1c], buffer=buffer_b)\n",
    "node_b2 = Node(channels=[channel_b2c], buffer=buffer_b)"
   ],
   "metadata": {
    "collapsed": false,
    "pycharm": {
     "name": "#%%\n"
    }
   }
  },
  {
   "cell_type": "code",
   "execution_count": 8,
   "outputs": [],
   "source": [
    "channel_ab1 = Channel(range=Range(20, 20), receiver=node_b1)\n",
    "channel_ab2 = Channel(range=Range(15, 25), receiver=node_b2)\n",
    "\n",
    "buffer_a = Buffer(capacity=20)\n",
    "\n",
    "node_a = Node(channels=[channel_ab1, channel_ab2], buffer=buffer_a)"
   ],
   "metadata": {
    "collapsed": false,
    "pycharm": {
     "name": "#%%\n"
    }
   }
  },
  {
   "cell_type": "code",
   "execution_count": null,
   "outputs": [],
   "source": [],
   "metadata": {
    "collapsed": false,
    "pycharm": {
     "name": "#%%\n"
    }
   }
  }
 ],
 "metadata": {
  "kernelspec": {
   "display_name": "Python 3",
   "language": "python",
   "name": "python3"
  },
  "language_info": {
   "codemirror_mode": {
    "name": "ipython",
    "version": 2
   },
   "file_extension": ".py",
   "mimetype": "text/x-python",
   "name": "python",
   "nbconvert_exporter": "python",
   "pygments_lexer": "ipython2",
   "version": "2.7.6"
  }
 },
 "nbformat": 4,
 "nbformat_minor": 0
}