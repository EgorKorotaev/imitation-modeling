{
 "cells": [
  {
   "cell_type": "code",
   "execution_count": 1,
   "metadata": {
    "collapsed": true
   },
   "outputs": [],
   "source": [
    "from buffer import Buffer\n",
    "from node import Node"
   ]
  },
  {
   "cell_type": "code",
   "execution_count": 2,
   "outputs": [],
   "source": [
    "from src.channel import Channel\n",
    "from src.packet import Packet\n",
    "from src.range import Range\n",
    "TOTAL_PACKAGES = 50000"
   ],
   "metadata": {
    "collapsed": false,
    "pycharm": {
     "name": "#%%\n"
    }
   }
  },
  {
   "cell_type": "code",
   "execution_count": 3,
   "outputs": [],
   "source": [
    "buffer_c = Buffer(capacity=TOTAL_PACKAGES)\n",
    "node_c = Node(channels=[], buffer=buffer_c)"
   ],
   "metadata": {
    "collapsed": false,
    "pycharm": {
     "name": "#%%\n"
    }
   }
  },
  {
   "cell_type": "code",
   "execution_count": 4,
   "outputs": [],
   "source": [
    "channel_b1c = Channel(range=Range(22, 28), receiver=node_c)\n",
    "channel_b2c = Channel(range=Range(25, 25), receiver=node_c)\n",
    "\n",
    "threshold_reached = False\n",
    "\n",
    "def callback():\n",
    "    global channel_b1c, channel_b2c, threshold_reached\n",
    "    if not threshold_reached:\n",
    "        channel_b1c.range = Range(15, 15)\n",
    "        channel_b2c.range = Range(15, 15)\n",
    "        threshold_reached = True\n",
    "\n",
    "buffer_b = Buffer(capacity=25, threshold=20, on_threshold_reached=callback)\n",
    "\n",
    "node_b1 = Node(channels=[channel_b1c], buffer=buffer_b)\n",
    "node_b2 = Node(channels=[channel_b2c], buffer=buffer_b)"
   ],
   "metadata": {
    "collapsed": false,
    "pycharm": {
     "name": "#%%\n"
    }
   }
  },
  {
   "cell_type": "code",
   "execution_count": 5,
   "outputs": [],
   "source": [
    "channel_ab1 = Channel(range=Range(20, 20), receiver=node_b1)\n",
    "channel_ab2 = Channel(range=Range(15, 25), receiver=node_b2)\n",
    "\n",
    "buffer_a = Buffer(capacity=20)\n",
    "\n",
    "node_a = Node(channels=[channel_ab1, channel_ab2], buffer=buffer_a)"
   ],
   "metadata": {
    "collapsed": false,
    "pycharm": {
     "name": "#%%\n"
    }
   }
  },
  {
   "cell_type": "code",
   "execution_count": 6,
   "outputs": [],
   "source": [
    "channel_emitter_a = Channel(range=Range(5, 15), receiver=node_a)\n",
    "\n",
    "buffer_emitter = Buffer(capacity=TOTAL_PACKAGES)\n",
    "\n",
    "packets_to_send = [Packet(i) for i in range(TOTAL_PACKAGES)]\n",
    "\n",
    "for packet in packets_to_send:\n",
    "    buffer_emitter.push(packet)\n",
    "\n",
    "node_emitter = Node(channels=[channel_emitter_a], buffer=buffer_emitter)"
   ],
   "metadata": {
    "collapsed": false,
    "pycharm": {
     "name": "#%%\n"
    }
   }
  },
  {
   "cell_type": "code",
   "execution_count": 7,
   "outputs": [],
   "source": [
    "time_aware_units = [\n",
    "    node_emitter,\n",
    "    channel_emitter_a,\n",
    "\n",
    "    node_a,\n",
    "    channel_ab1,\n",
    "    channel_ab2,\n",
    "\n",
    "    node_b1,\n",
    "    channel_b1c,\n",
    "\n",
    "    node_b2,\n",
    "    channel_b2c,\n",
    "\n",
    "    node_c\n",
    "]"
   ],
   "metadata": {
    "collapsed": false,
    "pycharm": {
     "name": "#%%\n"
    }
   }
  },
  {
   "cell_type": "code",
   "execution_count": 8,
   "outputs": [
    {
     "data": {
      "text/plain": "[(True, 119)]"
     },
     "execution_count": 8,
     "metadata": {},
     "output_type": "execute_result"
    }
   ],
   "source": [
    "experiment_results = []\n",
    "\n",
    "\n",
    "threshold_reached = False\n",
    "\n",
    "for tick in range(TOTAL_PACKAGES * 50 + 1):\n",
    "    for unit in time_aware_units:\n",
    "        unit.on_clock_tick()\n",
    "\n",
    "experiment_results.append((threshold_reached, TOTAL_PACKAGES - len(buffer_c)))\n",
    "\n",
    "experiment_results"
   ],
   "metadata": {
    "collapsed": false,
    "pycharm": {
     "name": "#%%\n"
    }
   }
  }
 ],
 "metadata": {
  "kernelspec": {
   "display_name": "Python 3",
   "language": "python",
   "name": "python3"
  },
  "language_info": {
   "codemirror_mode": {
    "name": "ipython",
    "version": 2
   },
   "file_extension": ".py",
   "mimetype": "text/x-python",
   "name": "python",
   "nbconvert_exporter": "python",
   "pygments_lexer": "ipython2",
   "version": "2.7.6"
  }
 },
 "nbformat": 4,
 "nbformat_minor": 0
}